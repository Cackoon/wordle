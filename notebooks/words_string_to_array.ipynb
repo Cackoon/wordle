{
 "cells": [
  {
   "cell_type": "code",
   "execution_count": 1,
   "id": "0daff7f8-15f3-40ab-abe5-2a7f8c5eb1a0",
   "metadata": {},
   "outputs": [],
   "source": [
    "from string import ascii_lowercase"
   ]
  },
  {
   "cell_type": "code",
   "execution_count": 2,
   "id": "1b2c7e5e-d04a-479b-bf2b-ea56ddd09071",
   "metadata": {},
   "outputs": [],
   "source": [
    "import numpy as np"
   ]
  },
  {
   "cell_type": "code",
   "execution_count": 3,
   "id": "c22202d8-e5af-410a-bce1-d7bf48ac1822",
   "metadata": {},
   "outputs": [],
   "source": [
    "filepath = r\"../filestore/words.txt\""
   ]
  },
  {
   "cell_type": "code",
   "execution_count": 8,
   "id": "88e05f5d-5a9b-4280-a6a2-cd7e3f045ac6",
   "metadata": {},
   "outputs": [
    {
     "data": {
      "text/plain": [
       "array(['women', 'nikau', 'swack', ..., 'grits', 'kames', 'death'],\n",
       "      dtype='<U5')"
      ]
     },
     "execution_count": 8,
     "metadata": {},
     "output_type": "execute_result"
    }
   ],
   "source": [
    "np.loadtxt(filepath, dtype='U')"
   ]
  },
  {
   "cell_type": "code",
   "execution_count": 38,
   "id": "06b437be-386b-441b-b722-2b383211ee07",
   "metadata": {},
   "outputs": [],
   "source": [
    "a = np.genfromtxt(\n",
    "    filepath,\n",
    "    delimiter=[1,1,1,1,1],\n",
    "    autostrip=True,\n",
    "    dtype='U'\n",
    ")"
   ]
  },
  {
   "cell_type": "code",
   "execution_count": 39,
   "id": "a63e35d7-ccb6-49d2-a8c6-63f666f0702a",
   "metadata": {},
   "outputs": [
    {
     "data": {
      "text/plain": [
       "array([[255, 255, 255, 255, 255],\n",
       "       [255, 255, 255, 255, 255],\n",
       "       [255, 255, 255, 255, 255],\n",
       "       ...,\n",
       "       [255, 255, 255, 255, 255],\n",
       "       [255, 255, 255, 255, 255],\n",
       "       [255, 255, 255, 255, 255]], dtype=uint8)"
      ]
     },
     "execution_count": 39,
     "metadata": {},
     "output_type": "execute_result"
    }
   ],
   "source": [
    "np.genfromtxt(\n",
    "    filepath,\n",
    "    delimiter=[1,1,1,1,1],\n",
    "    autostrip=True,\n",
    "    dtype=np.uint8\n",
    ")"
   ]
  },
  {
   "cell_type": "code",
   "execution_count": 4,
   "id": "06513890-e2ec-4aea-a5ee-ddc161831053",
   "metadata": {},
   "outputs": [
    {
     "data": {
      "text/plain": [
       "array([[-1, -1, -1, -1, -1],\n",
       "       [-1, -1, -1, -1, -1],\n",
       "       [-1, -1, -1, -1, -1],\n",
       "       ...,\n",
       "       [-1, -1, -1, -1, -1],\n",
       "       [-1, -1, -1, -1, -1],\n",
       "       [-1, -1, -1, -1, -1]], dtype=int8)"
      ]
     },
     "execution_count": 4,
     "metadata": {},
     "output_type": "execute_result"
    }
   ],
   "source": [
    "np.genfromtxt(\n",
    "    filepath,\n",
    "    delimiter=[1,1,1,1,1],\n",
    "    autostrip=True,\n",
    "    dtype=np.int8\n",
    ")"
   ]
  },
  {
   "cell_type": "code",
   "execution_count": 33,
   "id": "7828df1f-67a0-4c6d-ba8c-5ba0ef664edc",
   "metadata": {},
   "outputs": [
    {
     "data": {
      "text/plain": [
       "array([['w', 'o', 'm', 'e', 'n'],\n",
       "       ['n', 'i', 'k', 'a', 'u'],\n",
       "       ['s', 'w', 'a', 'c', 'k'],\n",
       "       ...,\n",
       "       ['g', 'r', 'i', 't', 's'],\n",
       "       ['k', 'a', 'm', 'e', 's'],\n",
       "       ['d', 'e', 'a', 't', 'h']], dtype='<U1')"
      ]
     },
     "execution_count": 33,
     "metadata": {},
     "output_type": "execute_result"
    }
   ],
   "source": [
    "a"
   ]
  },
  {
   "cell_type": "code",
   "execution_count": 28,
   "id": "caa30768-530b-4746-bd3c-3c2fed957191",
   "metadata": {},
   "outputs": [
    {
     "data": {
      "text/plain": [
       "b'\\xa3\\x8eq\\xb5'"
      ]
     },
     "execution_count": 28,
     "metadata": {},
     "output_type": "execute_result"
    }
   ],
   "source": [
    "b'\\xa3\\x8eq\\xb5'"
   ]
  },
  {
   "cell_type": "code",
   "execution_count": 35,
   "id": "9bcf513f-00df-4f92-910b-4190896508f7",
   "metadata": {},
   "outputs": [
    {
     "data": {
      "text/plain": [
       "array([[b'w', b'o', b'm', b'e', b'n'],\n",
       "       [b'n', b'i', b'k', b'a', b'u'],\n",
       "       [b's', b'w', b'a', b'c', b'k'],\n",
       "       ...,\n",
       "       [b'g', b'r', b'i', b't', b's'],\n",
       "       [b'k', b'a', b'm', b'e', b's'],\n",
       "       [b'd', b'e', b'a', b't', b'h']], dtype='|S1')"
      ]
     },
     "execution_count": 35,
     "metadata": {},
     "output_type": "execute_result"
    }
   ],
   "source": [
    "np.char.encode(a)"
   ]
  },
  {
   "cell_type": "code",
   "execution_count": 36,
   "id": "93669d6f-26cb-4535-8b7e-d71e0c2a99ec",
   "metadata": {},
   "outputs": [
    {
     "data": {
      "text/plain": [
       "b'wa'"
      ]
     },
     "execution_count": 36,
     "metadata": {},
     "output_type": "execute_result"
    }
   ],
   "source": [
    "b'w' + b'a'"
   ]
  },
  {
   "cell_type": "code",
   "execution_count": 31,
   "id": "21706fa5-89f0-48ca-99ea-d015b5f777d8",
   "metadata": {},
   "outputs": [],
   "source": [
    "d = np.zeros(a.shape, dtype=np.uint8)"
   ]
  },
  {
   "cell_type": "code",
   "execution_count": 40,
   "id": "e2858d0c-fead-4ffb-a4f0-c9591d506e7d",
   "metadata": {},
   "outputs": [],
   "source": [
    "for i, row in enumerate(a):\n",
    "    for j, c in enumerate(row):\n",
    "        for u, c1 in enumerate(ascii_lowercase):\n",
    "            if c1 == c:\n",
    "                d[i, j] = u"
   ]
  },
  {
   "cell_type": "code",
   "execution_count": 41,
   "id": "7c6988ac-ded8-4f42-a668-0950ac135c22",
   "metadata": {},
   "outputs": [
    {
     "data": {
      "text/plain": [
       "array([[22, 14, 12,  4, 13],\n",
       "       [13,  8, 10,  0, 20],\n",
       "       [18, 22,  0,  2, 10],\n",
       "       ...,\n",
       "       [ 6, 17,  8, 19, 18],\n",
       "       [10,  0, 12,  4, 18],\n",
       "       [ 3,  4,  0, 19,  7]], dtype=uint8)"
      ]
     },
     "execution_count": 41,
     "metadata": {},
     "output_type": "execute_result"
    }
   ],
   "source": [
    "d"
   ]
  },
  {
   "cell_type": "code",
   "execution_count": 42,
   "id": "dd5f3422-8840-45b0-a04b-51b508a06bba",
   "metadata": {},
   "outputs": [],
   "source": [
    "np.save(r\"../filestore/words.npy\", d)"
   ]
  },
  {
   "cell_type": "code",
   "execution_count": 23,
   "id": "8ab9e0ee-fb53-43bc-aa36-6246e94cf60a",
   "metadata": {},
   "outputs": [
    {
     "data": {
      "text/plain": [
       "(12947, 5)"
      ]
     },
     "execution_count": 23,
     "metadata": {},
     "output_type": "execute_result"
    }
   ],
   "source": [
    "a.shape"
   ]
  },
  {
   "cell_type": "code",
   "execution_count": null,
   "id": "9debc807-b1e8-4280-8647-340347c7ae87",
   "metadata": {},
   "outputs": [],
   "source": [
    "help(np"
   ]
  },
  {
   "cell_type": "code",
   "execution_count": 4,
   "id": "6ef00992-80e4-40c7-9010-f6e1b9603289",
   "metadata": {},
   "outputs": [],
   "source": [
    "with open(filepath, 'r') as f:\n",
    "    l = f.readlines()"
   ]
  },
  {
   "cell_type": "code",
   "execution_count": 6,
   "id": "0e2ef227-5c58-40c9-a89f-34534f4c2b48",
   "metadata": {},
   "outputs": [
    {
     "data": {
      "text/plain": [
       "['women\\n', 'nikau\\n', 'swack\\n', 'feens\\n', 'fyles\\n']"
      ]
     },
     "execution_count": 6,
     "metadata": {},
     "output_type": "execute_result"
    }
   ],
   "source": [
    "l[:5]"
   ]
  },
  {
   "cell_type": "code",
   "execution_count": 7,
   "id": "f24e076f-ace9-443d-b502-6f4f0eab02c3",
   "metadata": {},
   "outputs": [
    {
     "data": {
      "text/plain": [
       "['motor\\n', 'geums\\n', 'grits\\n', 'kames\\n', 'death']"
      ]
     },
     "execution_count": 7,
     "metadata": {},
     "output_type": "execute_result"
    }
   ],
   "source": [
    "l[-5:]"
   ]
  },
  {
   "cell_type": "code",
   "execution_count": null,
   "id": "80fb4591-0aa2-4bed-9367-a4d49ae25b73",
   "metadata": {},
   "outputs": [],
   "source": []
  }
 ],
 "metadata": {
  "kernelspec": {
   "display_name": "Python 3 (ipykernel)",
   "language": "python",
   "name": "python3"
  },
  "language_info": {
   "codemirror_mode": {
    "name": "ipython",
    "version": 3
   },
   "file_extension": ".py",
   "mimetype": "text/x-python",
   "name": "python",
   "nbconvert_exporter": "python",
   "pygments_lexer": "ipython3",
   "version": "3.9.7"
  }
 },
 "nbformat": 4,
 "nbformat_minor": 5
}
