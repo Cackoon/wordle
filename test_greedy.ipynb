{
 "cells": [
  {
   "cell_type": "code",
   "execution_count": 1,
   "id": "a4885eb8-929d-4b64-b935-deb7a0283d39",
   "metadata": {},
   "outputs": [],
   "source": [
    "import numpy as np\n",
    "import seaborn as sns\n",
    "import matplotlib.pyplot as plt\n",
    "import pandas as pd\n",
    "\n",
    "from tqdm import tqdm"
   ]
  },
  {
   "cell_type": "code",
   "execution_count": 2,
   "id": "667f4d9b-16e4-4c1e-a644-3d047a9d90fc",
   "metadata": {},
   "outputs": [],
   "source": [
    "from Wordle import Wordle, dict_words"
   ]
  },
  {
   "cell_type": "code",
   "execution_count": 3,
   "id": "ae7a77b0-3142-4a22-9ae0-ad8c690eba49",
   "metadata": {},
   "outputs": [],
   "source": [
    "w = Wordle()"
   ]
  },
  {
   "cell_type": "code",
   "execution_count": 4,
   "id": "d4d56f72-dac7-41c7-aaad-1d9a7ca359c5",
   "metadata": {},
   "outputs": [
    {
     "data": {
      "text/plain": [
       "'pudus'"
      ]
     },
     "execution_count": 4,
     "metadata": {},
     "output_type": "execute_result"
    }
   ],
   "source": [
    "w.answer"
   ]
  },
  {
   "cell_type": "code",
   "execution_count": 5,
   "id": "ad59413b-efb0-4882-bf62-8e5f24a52ee4",
   "metadata": {},
   "outputs": [
    {
     "name": "stdout",
     "output_type": "stream",
     "text": [
      "Guessing: clean\n",
      "Guessing: musth\n",
      "Guessing: puris\n",
      "Guessing: pukus\n",
      "Guessing: pupus\n",
      "Guessing: pudus\n"
     ]
    }
   ],
   "source": [
    "w.greedy_strategy(verbose=True)"
   ]
  },
  {
   "cell_type": "code",
   "execution_count": 6,
   "id": "ff2ddba1-da8a-4e25-9292-9a994d409a44",
   "metadata": {},
   "outputs": [],
   "source": [
    "N = 1000"
   ]
  },
  {
   "cell_type": "code",
   "execution_count": 14,
   "id": "0b28a945-c3a0-4b31-82c2-4f24563e527c",
   "metadata": {},
   "outputs": [
    {
     "name": "stderr",
     "output_type": "stream",
     "text": [
      "100%|███████████████████████████████████████| 1000/1000 [33:09<00:00,  1.99s/it]\n"
     ]
    }
   ],
   "source": [
    "num_guesses = list()\n",
    "guesses = list()\n",
    "for i in tqdm(range(1000)):\n",
    "    w = Wordle()\n",
    "    w.greedy_strategy()\n",
    "    guesses.append(w.guesses)\n",
    "    num_guesses.append(len(w.guesses))\n",
    "    \n",
    "num_guesses = np.array(num_guesses)"
   ]
  },
  {
   "cell_type": "code",
   "execution_count": 31,
   "id": "e3ed8a2a-9f94-4348-8a57-321f8b2775c7",
   "metadata": {},
   "outputs": [],
   "source": [
    "values, counts = np.unique(num_guesses, return_counts=True)\n",
    "counts_df = pd.DataFrame(\n",
    "    data=np.stack([values, counts], axis=-1),\n",
    "    columns=['num_guesses', 'count']\n",
    ")\n",
    "\n",
    "counts_df = (\n",
    "    counts_df\n",
    "    .sort_values('num_guesses')\n",
    "    .reset_index(drop=True)\n",
    ")\n",
    "counts_df['cum_count'] = counts_df['count'].cumsum()\n",
    "counts_df['cum_rate'] = counts_df['cum_count']/(counts_df['cum_count'].iloc[-1])"
   ]
  },
  {
   "cell_type": "code",
   "execution_count": 32,
   "id": "0ef16060-4fa7-40ae-a9d9-6d948f7f39f0",
   "metadata": {},
   "outputs": [
    {
     "data": {
      "text/html": [
       "<div>\n",
       "<style scoped>\n",
       "    .dataframe tbody tr th:only-of-type {\n",
       "        vertical-align: middle;\n",
       "    }\n",
       "\n",
       "    .dataframe tbody tr th {\n",
       "        vertical-align: top;\n",
       "    }\n",
       "\n",
       "    .dataframe thead th {\n",
       "        text-align: right;\n",
       "    }\n",
       "</style>\n",
       "<table border=\"1\" class=\"dataframe\">\n",
       "  <thead>\n",
       "    <tr style=\"text-align: right;\">\n",
       "      <th></th>\n",
       "      <th>num_guesses</th>\n",
       "      <th>count</th>\n",
       "      <th>cum_count</th>\n",
       "      <th>cum_rate</th>\n",
       "    </tr>\n",
       "  </thead>\n",
       "  <tbody>\n",
       "    <tr>\n",
       "      <th>0</th>\n",
       "      <td>2</td>\n",
       "      <td>9</td>\n",
       "      <td>9</td>\n",
       "      <td>0.009</td>\n",
       "    </tr>\n",
       "    <tr>\n",
       "      <th>1</th>\n",
       "      <td>3</td>\n",
       "      <td>98</td>\n",
       "      <td>107</td>\n",
       "      <td>0.107</td>\n",
       "    </tr>\n",
       "    <tr>\n",
       "      <th>2</th>\n",
       "      <td>4</td>\n",
       "      <td>294</td>\n",
       "      <td>401</td>\n",
       "      <td>0.401</td>\n",
       "    </tr>\n",
       "    <tr>\n",
       "      <th>3</th>\n",
       "      <td>5</td>\n",
       "      <td>268</td>\n",
       "      <td>669</td>\n",
       "      <td>0.669</td>\n",
       "    </tr>\n",
       "    <tr>\n",
       "      <th>4</th>\n",
       "      <td>6</td>\n",
       "      <td>174</td>\n",
       "      <td>843</td>\n",
       "      <td>0.843</td>\n",
       "    </tr>\n",
       "    <tr>\n",
       "      <th>5</th>\n",
       "      <td>7</td>\n",
       "      <td>72</td>\n",
       "      <td>915</td>\n",
       "      <td>0.915</td>\n",
       "    </tr>\n",
       "    <tr>\n",
       "      <th>6</th>\n",
       "      <td>8</td>\n",
       "      <td>45</td>\n",
       "      <td>960</td>\n",
       "      <td>0.960</td>\n",
       "    </tr>\n",
       "    <tr>\n",
       "      <th>7</th>\n",
       "      <td>9</td>\n",
       "      <td>22</td>\n",
       "      <td>982</td>\n",
       "      <td>0.982</td>\n",
       "    </tr>\n",
       "    <tr>\n",
       "      <th>8</th>\n",
       "      <td>10</td>\n",
       "      <td>10</td>\n",
       "      <td>992</td>\n",
       "      <td>0.992</td>\n",
       "    </tr>\n",
       "    <tr>\n",
       "      <th>9</th>\n",
       "      <td>11</td>\n",
       "      <td>5</td>\n",
       "      <td>997</td>\n",
       "      <td>0.997</td>\n",
       "    </tr>\n",
       "    <tr>\n",
       "      <th>10</th>\n",
       "      <td>12</td>\n",
       "      <td>1</td>\n",
       "      <td>998</td>\n",
       "      <td>0.998</td>\n",
       "    </tr>\n",
       "    <tr>\n",
       "      <th>11</th>\n",
       "      <td>13</td>\n",
       "      <td>1</td>\n",
       "      <td>999</td>\n",
       "      <td>0.999</td>\n",
       "    </tr>\n",
       "    <tr>\n",
       "      <th>12</th>\n",
       "      <td>15</td>\n",
       "      <td>1</td>\n",
       "      <td>1000</td>\n",
       "      <td>1.000</td>\n",
       "    </tr>\n",
       "  </tbody>\n",
       "</table>\n",
       "</div>"
      ],
      "text/plain": [
       "    num_guesses  count  cum_count  cum_rate\n",
       "0             2      9          9     0.009\n",
       "1             3     98        107     0.107\n",
       "2             4    294        401     0.401\n",
       "3             5    268        669     0.669\n",
       "4             6    174        843     0.843\n",
       "5             7     72        915     0.915\n",
       "6             8     45        960     0.960\n",
       "7             9     22        982     0.982\n",
       "8            10     10        992     0.992\n",
       "9            11      5        997     0.997\n",
       "10           12      1        998     0.998\n",
       "11           13      1        999     0.999\n",
       "12           15      1       1000     1.000"
      ]
     },
     "execution_count": 32,
     "metadata": {},
     "output_type": "execute_result"
    }
   ],
   "source": [
    "counts_df"
   ]
  },
  {
   "cell_type": "code",
   "execution_count": 38,
   "id": "9ce9b218-ee07-40f9-b5ad-204db2419ffa",
   "metadata": {},
   "outputs": [
    {
     "name": "stderr",
     "output_type": "stream",
     "text": [
      "/var/folders/r3/xn8xq5c17932m2g1b4r3dss80000gn/T/ipykernel_900/4233600694.py:19: UserWarning: Matplotlib is currently using module://matplotlib_inline.backend_inline, which is a non-GUI backend, so cannot show the figure.\n",
      "  fig.show()\n"
     ]
    },
    {
     "data": {
      "image/png": "[encoded data removed]",
      "text/plain": [
       "<Figure size 576x432 with 2 Axes>"
      ]
     },
     "metadata": {
      "needs_background": "light"
     },
     "output_type": "display_data"
    }
   ],
   "source": [
    "fig, ax1 = plt.subplots(figsize=(8, 6))\n",
    "\n",
    "ax2 = ax1.twinx()\n",
    "\n",
    "ax1.bar(\n",
    "    counts_df['num_guesses'],\n",
    "    counts_df['count']\n",
    ")\n",
    "ax2.step(\n",
    "    counts_df['num_guesses'],\n",
    "    counts_df['cum_rate'],\n",
    "    where='post',\n",
    "    color='red'\n",
    ")\n",
    "\n",
    "ax2.grid(axis='y')\n",
    "ax1.grid(axis='x')\n",
    "\n",
    "fig.show()"
   ]
  },
  {
   "cell_type": "code",
   "execution_count": 16,
   "id": "1ab773be-a184-47a8-971e-170a87aa3741",
   "metadata": {},
   "outputs": [
    {
     "data": {
      "text/plain": [
       "(array([ 2,  3,  4,  5,  6,  7,  8,  9, 10, 11, 12, 13, 15]),\n",
       " array([  9,  98, 294, 268, 174,  72,  45,  22,  10,   5,   1,   1,   1]))"
      ]
     },
     "execution_count": 16,
     "metadata": {},
     "output_type": "execute_result"
    }
   ],
   "source": [
    "values, counts"
   ]
  },
  {
   "cell_type": "code",
   "execution_count": 17,
   "id": "70f3f4ce-3961-4c11-a139-ddd733d7c9a6",
   "metadata": {},
   "outputs": [
    {
     "data": {
      "text/html": [
       "<div>\n",
       "<style scoped>\n",
       "    .dataframe tbody tr th:only-of-type {\n",
       "        vertical-align: middle;\n",
       "    }\n",
       "\n",
       "    .dataframe tbody tr th {\n",
       "        vertical-align: top;\n",
       "    }\n",
       "\n",
       "    .dataframe thead th {\n",
       "        text-align: right;\n",
       "    }\n",
       "</style>\n",
       "<table border=\"1\" class=\"dataframe\">\n",
       "  <thead>\n",
       "    <tr style=\"text-align: right;\">\n",
       "      <th></th>\n",
       "      <th>0</th>\n",
       "    </tr>\n",
       "  </thead>\n",
       "  <tbody>\n",
       "    <tr>\n",
       "      <th>count</th>\n",
       "      <td>1000.000000</td>\n",
       "    </tr>\n",
       "    <tr>\n",
       "      <th>mean</th>\n",
       "      <td>5.129000</td>\n",
       "    </tr>\n",
       "    <tr>\n",
       "      <th>std</th>\n",
       "      <td>1.617088</td>\n",
       "    </tr>\n",
       "    <tr>\n",
       "      <th>min</th>\n",
       "      <td>2.000000</td>\n",
       "    </tr>\n",
       "    <tr>\n",
       "      <th>25%</th>\n",
       "      <td>4.000000</td>\n",
       "    </tr>\n",
       "    <tr>\n",
       "      <th>50%</th>\n",
       "      <td>5.000000</td>\n",
       "    </tr>\n",
       "    <tr>\n",
       "      <th>75%</th>\n",
       "      <td>6.000000</td>\n",
       "    </tr>\n",
       "    <tr>\n",
       "      <th>max</th>\n",
       "      <td>15.000000</td>\n",
       "    </tr>\n",
       "  </tbody>\n",
       "</table>\n",
       "</div>"
      ],
      "text/plain": [
       "                 0\n",
       "count  1000.000000\n",
       "mean      5.129000\n",
       "std       1.617088\n",
       "min       2.000000\n",
       "25%       4.000000\n",
       "50%       5.000000\n",
       "75%       6.000000\n",
       "max      15.000000"
      ]
     },
     "execution_count": 17,
     "metadata": {},
     "output_type": "execute_result"
    }
   ],
   "source": [
    "pd.DataFrame(num_guesses).describe()"
   ]
  },
  {
   "cell_type": "code",
   "execution_count": 18,
   "id": "da2a8d09-23ca-4357-b017-29827a5064c6",
   "metadata": {},
   "outputs": [
    {
     "data": {
      "text/plain": [
       "(array([33]),)"
      ]
     },
     "execution_count": 18,
     "metadata": {},
     "output_type": "execute_result"
    }
   ],
   "source": [
    "(num_guesses == np.max(num_guesses)).nonzero()"
   ]
  },
  {
   "cell_type": "code",
   "execution_count": 21,
   "id": "21aa4472-f70f-4655-be25-786d362ae916",
   "metadata": {},
   "outputs": [
    {
     "data": {
      "text/plain": [
       "['becks',\n",
       " 'lolls',\n",
       " 'pulls',\n",
       " 'rills',\n",
       " 'hills',\n",
       " 'sills',\n",
       " 'yills',\n",
       " 'fills',\n",
       " 'jills',\n",
       " 'dills',\n",
       " 'tills',\n",
       " 'nills',\n",
       " 'wills',\n",
       " 'gills',\n",
       " 'mills']"
      ]
     },
     "execution_count": 21,
     "metadata": {},
     "output_type": "execute_result"
    }
   ],
   "source": [
    "guesses[33]"
   ]
  },
  {
   "cell_type": "code",
   "execution_count": 22,
   "id": "625a3f1a-6962-49d4-8f1c-c2a525717f38",
   "metadata": {},
   "outputs": [
    {
     "data": {
      "text/plain": [
       "(array([  3,   4,  12,  35,  51,  73,  83, 104, 151, 187, 230, 240, 249,\n",
       "        276, 291, 339, 345, 377, 403, 430, 467, 472, 482, 565, 590, 608,\n",
       "        616, 617, 630, 641, 655, 709, 723, 845, 846, 857, 874, 881, 907,\n",
       "        923, 935, 942, 955, 968, 978]),)"
      ]
     },
     "execution_count": 22,
     "metadata": {},
     "output_type": "execute_result"
    }
   ],
   "source": [
    "(num_guesses == 8).nonzero()"
   ]
  },
  {
   "cell_type": "code",
   "execution_count": 23,
   "id": "5d1ff21c-14d1-4d84-8d39-2682921b5653",
   "metadata": {},
   "outputs": [
    {
     "data": {
      "text/plain": [
       "['tians', 'lovey', 'germy', 'reeky', 'reddy', 'refry', 'rebuy', 'reccy']"
      ]
     },
     "execution_count": 23,
     "metadata": {},
     "output_type": "execute_result"
    }
   ],
   "source": [
    "guesses[3]"
   ]
  },
  {
   "cell_type": "code",
   "execution_count": 24,
   "id": "0d9f84b2-4d30-489a-9f45-cf2fe2454dba",
   "metadata": {},
   "outputs": [
    {
     "data": {
      "text/plain": [
       "['eikon', 'bitsy', 'vills', 'fiqhs', 'riffs', 'ziffs', 'jiffs', 'diffs']"
      ]
     },
     "execution_count": 24,
     "metadata": {},
     "output_type": "execute_result"
    }
   ],
   "source": [
    "guesses[4]"
   ]
  },
  {
   "cell_type": "code",
   "execution_count": 25,
   "id": "ac729789-4bba-4c04-86bf-c854962f347c",
   "metadata": {},
   "outputs": [
    {
     "data": {
      "text/plain": [
       "0.843"
      ]
     },
     "execution_count": 25,
     "metadata": {},
     "output_type": "execute_result"
    }
   ],
   "source": [
    "len(num_guesses[num_guesses <= 6])/(len(num_guesses))"
   ]
  },
  {
   "cell_type": "code",
   "execution_count": null,
   "id": "eecf90fe-0f8d-45c0-a0cb-27eb089f6e12",
   "metadata": {},
   "outputs": [],
   "source": []
  }
 ],
 "metadata": {
  "kernelspec": {
   "display_name": "Python 3 (ipykernel)",
   "language": "python",
   "name": "python3"
  },
  "language_info": {
   "codemirror_mode": {
    "name": "ipython",
    "version": 3
   },
   "file_extension": ".py",
   "mimetype": "text/x-python",
   "name": "python",
   "nbconvert_exporter": "python",
   "pygments_lexer": "ipython3",
   "version": "3.9.7"
  }
 },
 "nbformat": 4,
 "nbformat_minor": 5
}
