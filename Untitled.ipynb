{
 "cells": [
  {
   "cell_type": "code",
   "execution_count": 2,
   "id": "667f4d9b-16e4-4c1e-a644-3d047a9d90fc",
   "metadata": {},
   "outputs": [],
   "source": [
    "from Wordle import Wordle, dict_words"
   ]
  },
  {
   "cell_type": "code",
   "execution_count": 3,
   "id": "fc269858-f023-4211-ace9-295c07b99e89",
   "metadata": {},
   "outputs": [
    {
     "data": {
      "text/plain": [
       "array(['women', 'nikau', 'swack', ..., 'grits', 'kames', 'death'],\n",
       "      dtype='<U5')"
      ]
     },
     "execution_count": 3,
     "metadata": {},
     "output_type": "execute_result"
    }
   ],
   "source": [
    "dict_words"
   ]
  },
  {
   "cell_type": "code",
   "execution_count": 2,
   "id": "b256a393-3214-4def-b6c6-66d58bc9823e",
   "metadata": {},
   "outputs": [],
   "source": [
    "from Wordle import dict_words"
   ]
  },
  {
   "cell_type": "code",
   "execution_count": 3,
   "id": "570dfea3-3d54-4bc4-b8ee-fce19709920a",
   "metadata": {},
   "outputs": [],
   "source": [
    "w1 = Wordle('barry')"
   ]
  },
  {
   "cell_type": "code",
   "execution_count": 4,
   "id": "5e330112-aaa8-4aa3-b9e4-638ffd1c14d8",
   "metadata": {},
   "outputs": [
    {
     "data": {
      "text/plain": [
       "<Wordle.Wordle at 0x7facb2046790>"
      ]
     },
     "execution_count": 4,
     "metadata": {},
     "output_type": "execute_result"
    }
   ],
   "source": [
    "w1"
   ]
  },
  {
   "cell_type": "code",
   "execution_count": 5,
   "id": "089f65ab-cfe5-414e-8b5f-eb74ddfa147a",
   "metadata": {},
   "outputs": [
    {
     "data": {
      "text/plain": [
       "'barry'"
      ]
     },
     "execution_count": 5,
     "metadata": {},
     "output_type": "execute_result"
    }
   ],
   "source": [
    "w1.answer"
   ]
  },
  {
   "cell_type": "code",
   "execution_count": 6,
   "id": "d6fd6037-926f-4626-a9dd-723f3baf860f",
   "metadata": {},
   "outputs": [
    {
     "data": {
      "text/plain": [
       "[]"
      ]
     },
     "execution_count": 6,
     "metadata": {},
     "output_type": "execute_result"
    }
   ],
   "source": [
    "w1.guesses"
   ]
  },
  {
   "cell_type": "code",
   "execution_count": 7,
   "id": "215fa0d8-050e-434f-ac59-cbc3bbfec8ab",
   "metadata": {},
   "outputs": [
    {
     "data": {
      "text/plain": [
       "[]"
      ]
     },
     "execution_count": 7,
     "metadata": {},
     "output_type": "execute_result"
    }
   ],
   "source": [
    "w1.infos"
   ]
  },
  {
   "cell_type": "code",
   "execution_count": 8,
   "id": "ba4877b8-40f4-42b0-be54-6a0909f8c033",
   "metadata": {},
   "outputs": [],
   "source": [
    "w1.make_guess('marry')"
   ]
  },
  {
   "cell_type": "code",
   "execution_count": 9,
   "id": "638508f0-a5ff-47bc-97d1-e0551f3f4d94",
   "metadata": {},
   "outputs": [
    {
     "data": {
      "text/plain": [
       "'barry'"
      ]
     },
     "execution_count": 9,
     "metadata": {},
     "output_type": "execute_result"
    }
   ],
   "source": [
    "w1.answer"
   ]
  },
  {
   "cell_type": "code",
   "execution_count": 10,
   "id": "ca2193e9-1476-44e9-af69-cc0f4a45390c",
   "metadata": {},
   "outputs": [
    {
     "data": {
      "text/plain": [
       "['marry']"
      ]
     },
     "execution_count": 10,
     "metadata": {},
     "output_type": "execute_result"
    }
   ],
   "source": [
    "w1.guesses"
   ]
  },
  {
   "cell_type": "code",
   "execution_count": 11,
   "id": "c975ad99-d79b-4804-8f95-527a8632922f",
   "metadata": {},
   "outputs": [
    {
     "data": {
      "text/plain": [
       "[[<CharacterInfo.WRONG: 1>,\n",
       "  <CharacterInfo.CORRECT: 3>,\n",
       "  <CharacterInfo.CORRECT: 3>,\n",
       "  <CharacterInfo.CORRECT: 3>,\n",
       "  <CharacterInfo.CORRECT: 3>]]"
      ]
     },
     "execution_count": 11,
     "metadata": {},
     "output_type": "execute_result"
    }
   ],
   "source": [
    "w1.infos"
   ]
  },
  {
   "cell_type": "code",
   "execution_count": 12,
   "id": "88a36793-51cc-462b-9989-6d98330a70ea",
   "metadata": {},
   "outputs": [],
   "source": [
    "w1.make_guess('carry')"
   ]
  },
  {
   "cell_type": "code",
   "execution_count": 13,
   "id": "878e7ec7-edd9-4057-9906-835b96d162f0",
   "metadata": {},
   "outputs": [
    {
     "data": {
      "text/plain": [
       "'barry'"
      ]
     },
     "execution_count": 13,
     "metadata": {},
     "output_type": "execute_result"
    }
   ],
   "source": [
    "w1.answer"
   ]
  },
  {
   "cell_type": "code",
   "execution_count": 14,
   "id": "106fcdca-fd14-4bb7-9ba0-bce466f7a34e",
   "metadata": {},
   "outputs": [
    {
     "data": {
      "text/plain": [
       "['marry', 'carry']"
      ]
     },
     "execution_count": 14,
     "metadata": {},
     "output_type": "execute_result"
    }
   ],
   "source": [
    "w1.guesses"
   ]
  },
  {
   "cell_type": "code",
   "execution_count": 15,
   "id": "73498466-ae1f-4725-9ec5-38022bad5842",
   "metadata": {},
   "outputs": [
    {
     "data": {
      "text/plain": [
       "[[<CharacterInfo.WRONG: 1>,\n",
       "  <CharacterInfo.CORRECT: 3>,\n",
       "  <CharacterInfo.CORRECT: 3>,\n",
       "  <CharacterInfo.CORRECT: 3>,\n",
       "  <CharacterInfo.CORRECT: 3>],\n",
       " [<CharacterInfo.WRONG: 1>,\n",
       "  <CharacterInfo.CORRECT: 3>,\n",
       "  <CharacterInfo.CORRECT: 3>,\n",
       "  <CharacterInfo.CORRECT: 3>,\n",
       "  <CharacterInfo.CORRECT: 3>]]"
      ]
     },
     "execution_count": 15,
     "metadata": {},
     "output_type": "execute_result"
    }
   ],
   "source": [
    "w1.infos"
   ]
  },
  {
   "cell_type": "code",
   "execution_count": 16,
   "id": "ef0e97b7-86bd-48e1-9b48-16daf1ed5989",
   "metadata": {},
   "outputs": [],
   "source": [
    "w1.make_guess('barry')"
   ]
  },
  {
   "cell_type": "code",
   "execution_count": 17,
   "id": "77f36598-312f-4716-92e5-8bcc1d32b7f1",
   "metadata": {},
   "outputs": [
    {
     "data": {
      "text/plain": [
       "'barry'"
      ]
     },
     "execution_count": 17,
     "metadata": {},
     "output_type": "execute_result"
    }
   ],
   "source": [
    "w1.answer"
   ]
  },
  {
   "cell_type": "code",
   "execution_count": 18,
   "id": "9b1f76af-10d0-46fa-baca-a1123ef5be9e",
   "metadata": {},
   "outputs": [
    {
     "data": {
      "text/plain": [
       "['marry', 'carry', 'barry']"
      ]
     },
     "execution_count": 18,
     "metadata": {},
     "output_type": "execute_result"
    }
   ],
   "source": [
    "w1.guesses"
   ]
  },
  {
   "cell_type": "code",
   "execution_count": 19,
   "id": "d1d5ef3c-84a6-4cc2-994c-542ef06541ad",
   "metadata": {},
   "outputs": [
    {
     "data": {
      "text/plain": [
       "[[<CharacterInfo.WRONG: 1>,\n",
       "  <CharacterInfo.CORRECT: 3>,\n",
       "  <CharacterInfo.CORRECT: 3>,\n",
       "  <CharacterInfo.CORRECT: 3>,\n",
       "  <CharacterInfo.CORRECT: 3>],\n",
       " [<CharacterInfo.WRONG: 1>,\n",
       "  <CharacterInfo.CORRECT: 3>,\n",
       "  <CharacterInfo.CORRECT: 3>,\n",
       "  <CharacterInfo.CORRECT: 3>,\n",
       "  <CharacterInfo.CORRECT: 3>],\n",
       " [<CharacterInfo.CORRECT: 3>,\n",
       "  <CharacterInfo.CORRECT: 3>,\n",
       "  <CharacterInfo.CORRECT: 3>,\n",
       "  <CharacterInfo.CORRECT: 3>,\n",
       "  <CharacterInfo.CORRECT: 3>]]"
      ]
     },
     "execution_count": 19,
     "metadata": {},
     "output_type": "execute_result"
    }
   ],
   "source": [
    "w1.infos"
   ]
  },
  {
   "cell_type": "code",
   "execution_count": 20,
   "id": "80f47ba1-4ef5-4c75-8fa5-d5ae405c9e53",
   "metadata": {},
   "outputs": [
    {
     "data": {
      "text/plain": [
       "True"
      ]
     },
     "execution_count": 20,
     "metadata": {},
     "output_type": "execute_result"
    }
   ],
   "source": [
    "w1.solved"
   ]
  },
  {
   "cell_type": "code",
   "execution_count": 21,
   "id": "a94c427c-417c-42b6-b9ec-4b9463bb3fd0",
   "metadata": {},
   "outputs": [
    {
     "ename": "AssertionError",
     "evalue": "colour had 6 characters, not 5",
     "output_type": "error",
     "traceback": [
      "\u001b[0;31m---------------------------------------------------------------------------\u001b[0m",
      "\u001b[0;31mAssertionError\u001b[0m                            Traceback (most recent call last)",
      "\u001b[0;32m/var/folders/r3/xn8xq5c17932m2g1b4r3dss80000gn/T/ipykernel_727/4147208512.py\u001b[0m in \u001b[0;36m<module>\u001b[0;34m\u001b[0m\n\u001b[0;32m----> 1\u001b[0;31m \u001b[0mw1\u001b[0m\u001b[0;34m.\u001b[0m\u001b[0mmake_guess\u001b[0m\u001b[0;34m(\u001b[0m\u001b[0;34m'colour'\u001b[0m\u001b[0;34m)\u001b[0m\u001b[0;34m\u001b[0m\u001b[0;34m\u001b[0m\u001b[0m\n\u001b[0m",
      "\u001b[0;32m~/Desktop/repos/wordle/Wordle.py\u001b[0m in \u001b[0;36mmake_guess\u001b[0;34m(self, guess)\u001b[0m\n\u001b[1;32m     65\u001b[0m \u001b[0;34m\u001b[0m\u001b[0m\n\u001b[1;32m     66\u001b[0m     \u001b[0;32mdef\u001b[0m \u001b[0mmake_guess\u001b[0m\u001b[0;34m(\u001b[0m\u001b[0mself\u001b[0m\u001b[0;34m,\u001b[0m \u001b[0mguess\u001b[0m\u001b[0;34m)\u001b[0m\u001b[0;34m:\u001b[0m\u001b[0;34m\u001b[0m\u001b[0;34m\u001b[0m\u001b[0m\n\u001b[0;32m---> 67\u001b[0;31m         \u001b[0mself\u001b[0m\u001b[0;34m.\u001b[0m\u001b[0m_check_valid_word\u001b[0m\u001b[0;34m(\u001b[0m\u001b[0mguess\u001b[0m\u001b[0;34m)\u001b[0m\u001b[0;34m\u001b[0m\u001b[0;34m\u001b[0m\u001b[0m\n\u001b[0m\u001b[1;32m     68\u001b[0m         \u001b[0mself\u001b[0m\u001b[0;34m.\u001b[0m\u001b[0mguesses\u001b[0m\u001b[0;34m.\u001b[0m\u001b[0mappend\u001b[0m\u001b[0;34m(\u001b[0m\u001b[0mguess\u001b[0m\u001b[0;34m)\u001b[0m\u001b[0;34m\u001b[0m\u001b[0;34m\u001b[0m\u001b[0m\n\u001b[1;32m     69\u001b[0m \u001b[0;34m\u001b[0m\u001b[0m\n",
      "\u001b[0;32m~/Desktop/repos/wordle/Wordle.py\u001b[0m in \u001b[0;36m_check_valid_word\u001b[0;34m(word)\u001b[0m\n\u001b[1;32m     26\u001b[0m     \u001b[0;32mdef\u001b[0m \u001b[0m_check_valid_word\u001b[0m\u001b[0;34m(\u001b[0m\u001b[0mword\u001b[0m\u001b[0;34m)\u001b[0m\u001b[0;34m:\u001b[0m\u001b[0;34m\u001b[0m\u001b[0;34m\u001b[0m\u001b[0m\n\u001b[1;32m     27\u001b[0m         \u001b[0;32massert\u001b[0m \u001b[0misinstance\u001b[0m\u001b[0;34m(\u001b[0m\u001b[0mword\u001b[0m\u001b[0;34m,\u001b[0m \u001b[0mstr\u001b[0m\u001b[0;34m)\u001b[0m\u001b[0;34m,\u001b[0m \u001b[0;34m\"{} is not a string\"\u001b[0m\u001b[0;34m.\u001b[0m\u001b[0mformat\u001b[0m\u001b[0;34m(\u001b[0m\u001b[0mword\u001b[0m\u001b[0;34m)\u001b[0m\u001b[0;34m\u001b[0m\u001b[0;34m\u001b[0m\u001b[0m\n\u001b[0;32m---> 28\u001b[0;31m         \u001b[0;32massert\u001b[0m \u001b[0;34m(\u001b[0m\u001b[0mlen\u001b[0m\u001b[0;34m(\u001b[0m\u001b[0mword\u001b[0m\u001b[0;34m)\u001b[0m \u001b[0;34m==\u001b[0m \u001b[0mNUM_CHARS\u001b[0m\u001b[0;34m)\u001b[0m\u001b[0;34m,\u001b[0m \u001b[0;34m\"{} had {} characters, not {}\"\u001b[0m\u001b[0;34m.\u001b[0m\u001b[0mformat\u001b[0m\u001b[0;34m(\u001b[0m\u001b[0mword\u001b[0m\u001b[0;34m,\u001b[0m \u001b[0mlen\u001b[0m\u001b[0;34m(\u001b[0m\u001b[0mword\u001b[0m\u001b[0;34m)\u001b[0m\u001b[0;34m,\u001b[0m \u001b[0mNUM_CHARS\u001b[0m\u001b[0;34m)\u001b[0m\u001b[0;34m\u001b[0m\u001b[0;34m\u001b[0m\u001b[0m\n\u001b[0m\u001b[1;32m     29\u001b[0m         \u001b[0;32massert\u001b[0m \u001b[0mword\u001b[0m \u001b[0;32min\u001b[0m \u001b[0mdict_words\u001b[0m\u001b[0;34m,\u001b[0m \u001b[0;34m\"{} is not in dictionary\"\u001b[0m\u001b[0;34m.\u001b[0m\u001b[0mformat\u001b[0m\u001b[0;34m(\u001b[0m\u001b[0mword\u001b[0m\u001b[0;34m)\u001b[0m\u001b[0;34m\u001b[0m\u001b[0;34m\u001b[0m\u001b[0m\n\u001b[1;32m     30\u001b[0m \u001b[0;34m\u001b[0m\u001b[0m\n",
      "\u001b[0;31mAssertionError\u001b[0m: colour had 6 characters, not 5"
     ]
    }
   ],
   "source": [
    "w1.make_guess('colour')"
   ]
  },
  {
   "cell_type": "code",
   "execution_count": 22,
   "id": "ab149b9d-a58d-4126-9bc8-0cd696e59b5b",
   "metadata": {},
   "outputs": [
    {
     "ename": "AssertionError",
     "evalue": "xxxxx is not in dictionary",
     "output_type": "error",
     "traceback": [
      "\u001b[0;31m---------------------------------------------------------------------------\u001b[0m",
      "\u001b[0;31mAssertionError\u001b[0m                            Traceback (most recent call last)",
      "\u001b[0;32m/var/folders/r3/xn8xq5c17932m2g1b4r3dss80000gn/T/ipykernel_727/1884469670.py\u001b[0m in \u001b[0;36m<module>\u001b[0;34m\u001b[0m\n\u001b[0;32m----> 1\u001b[0;31m \u001b[0mw1\u001b[0m\u001b[0;34m.\u001b[0m\u001b[0mmake_guess\u001b[0m\u001b[0;34m(\u001b[0m\u001b[0;34m'xxxxx'\u001b[0m\u001b[0;34m)\u001b[0m\u001b[0;34m\u001b[0m\u001b[0;34m\u001b[0m\u001b[0m\n\u001b[0m",
      "\u001b[0;32m~/Desktop/repos/wordle/Wordle.py\u001b[0m in \u001b[0;36mmake_guess\u001b[0;34m(self, guess)\u001b[0m\n\u001b[1;32m     65\u001b[0m \u001b[0;34m\u001b[0m\u001b[0m\n\u001b[1;32m     66\u001b[0m     \u001b[0;32mdef\u001b[0m \u001b[0mmake_guess\u001b[0m\u001b[0;34m(\u001b[0m\u001b[0mself\u001b[0m\u001b[0;34m,\u001b[0m \u001b[0mguess\u001b[0m\u001b[0;34m)\u001b[0m\u001b[0;34m:\u001b[0m\u001b[0;34m\u001b[0m\u001b[0;34m\u001b[0m\u001b[0m\n\u001b[0;32m---> 67\u001b[0;31m         \u001b[0mself\u001b[0m\u001b[0;34m.\u001b[0m\u001b[0m_check_valid_word\u001b[0m\u001b[0;34m(\u001b[0m\u001b[0mguess\u001b[0m\u001b[0;34m)\u001b[0m\u001b[0;34m\u001b[0m\u001b[0;34m\u001b[0m\u001b[0m\n\u001b[0m\u001b[1;32m     68\u001b[0m         \u001b[0mself\u001b[0m\u001b[0;34m.\u001b[0m\u001b[0mguesses\u001b[0m\u001b[0;34m.\u001b[0m\u001b[0mappend\u001b[0m\u001b[0;34m(\u001b[0m\u001b[0mguess\u001b[0m\u001b[0;34m)\u001b[0m\u001b[0;34m\u001b[0m\u001b[0;34m\u001b[0m\u001b[0m\n\u001b[1;32m     69\u001b[0m \u001b[0;34m\u001b[0m\u001b[0m\n",
      "\u001b[0;32m~/Desktop/repos/wordle/Wordle.py\u001b[0m in \u001b[0;36m_check_valid_word\u001b[0;34m(word)\u001b[0m\n\u001b[1;32m     27\u001b[0m         \u001b[0;32massert\u001b[0m \u001b[0misinstance\u001b[0m\u001b[0;34m(\u001b[0m\u001b[0mword\u001b[0m\u001b[0;34m,\u001b[0m \u001b[0mstr\u001b[0m\u001b[0;34m)\u001b[0m\u001b[0;34m,\u001b[0m \u001b[0;34m\"{} is not a string\"\u001b[0m\u001b[0;34m.\u001b[0m\u001b[0mformat\u001b[0m\u001b[0;34m(\u001b[0m\u001b[0mword\u001b[0m\u001b[0;34m)\u001b[0m\u001b[0;34m\u001b[0m\u001b[0;34m\u001b[0m\u001b[0m\n\u001b[1;32m     28\u001b[0m         \u001b[0;32massert\u001b[0m \u001b[0;34m(\u001b[0m\u001b[0mlen\u001b[0m\u001b[0;34m(\u001b[0m\u001b[0mword\u001b[0m\u001b[0;34m)\u001b[0m \u001b[0;34m==\u001b[0m \u001b[0mNUM_CHARS\u001b[0m\u001b[0;34m)\u001b[0m\u001b[0;34m,\u001b[0m \u001b[0;34m\"{} has {} characters, not {}\"\u001b[0m\u001b[0;34m.\u001b[0m\u001b[0mformat\u001b[0m\u001b[0;34m(\u001b[0m\u001b[0mword\u001b[0m\u001b[0;34m,\u001b[0m \u001b[0mlen\u001b[0m\u001b[0;34m(\u001b[0m\u001b[0mword\u001b[0m\u001b[0;34m)\u001b[0m\u001b[0;34m,\u001b[0m \u001b[0mNUM_CHARS\u001b[0m\u001b[0;34m)\u001b[0m\u001b[0;34m\u001b[0m\u001b[0;34m\u001b[0m\u001b[0m\n\u001b[0;32m---> 29\u001b[0;31m         \u001b[0;32massert\u001b[0m \u001b[0mword\u001b[0m \u001b[0;32min\u001b[0m \u001b[0mdict_words\u001b[0m\u001b[0;34m,\u001b[0m \u001b[0;34m\"{} is not in dictionary\"\u001b[0m\u001b[0;34m.\u001b[0m\u001b[0mformat\u001b[0m\u001b[0;34m(\u001b[0m\u001b[0mword\u001b[0m\u001b[0;34m)\u001b[0m\u001b[0;34m\u001b[0m\u001b[0;34m\u001b[0m\u001b[0m\n\u001b[0m\u001b[1;32m     30\u001b[0m \u001b[0;34m\u001b[0m\u001b[0m\n\u001b[1;32m     31\u001b[0m     \u001b[0;32mdef\u001b[0m \u001b[0m__init__\u001b[0m\u001b[0;34m(\u001b[0m\u001b[0mself\u001b[0m\u001b[0;34m,\u001b[0m \u001b[0manswer\u001b[0m\u001b[0;34m=\u001b[0m\u001b[0;32mNone\u001b[0m\u001b[0;34m)\u001b[0m\u001b[0;34m:\u001b[0m\u001b[0;34m\u001b[0m\u001b[0;34m\u001b[0m\u001b[0m\n",
      "\u001b[0;31mAssertionError\u001b[0m: xxxxx is not in dictionary"
     ]
    }
   ],
   "source": [
    "w1.make_guess('xxxxx')"
   ]
  },
  {
   "cell_type": "code",
   "execution_count": 23,
   "id": "891395a6-708f-47cf-803e-ce5ec7076312",
   "metadata": {},
   "outputs": [
    {
     "ename": "AssertionError",
     "evalue": "0 is not a string",
     "output_type": "error",
     "traceback": [
      "\u001b[0;31m---------------------------------------------------------------------------\u001b[0m",
      "\u001b[0;31mAssertionError\u001b[0m                            Traceback (most recent call last)",
      "\u001b[0;32m/var/folders/r3/xn8xq5c17932m2g1b4r3dss80000gn/T/ipykernel_727/414726612.py\u001b[0m in \u001b[0;36m<module>\u001b[0;34m\u001b[0m\n\u001b[0;32m----> 1\u001b[0;31m \u001b[0mw1\u001b[0m\u001b[0;34m.\u001b[0m\u001b[0mmake_guess\u001b[0m\u001b[0;34m(\u001b[0m\u001b[0;36m0\u001b[0m\u001b[0;34m)\u001b[0m\u001b[0;34m\u001b[0m\u001b[0;34m\u001b[0m\u001b[0m\n\u001b[0m",
      "\u001b[0;32m~/Desktop/repos/wordle/Wordle.py\u001b[0m in \u001b[0;36mmake_guess\u001b[0;34m(self, guess)\u001b[0m\n\u001b[1;32m     65\u001b[0m \u001b[0;34m\u001b[0m\u001b[0m\n\u001b[1;32m     66\u001b[0m     \u001b[0;32mdef\u001b[0m \u001b[0mmake_guess\u001b[0m\u001b[0;34m(\u001b[0m\u001b[0mself\u001b[0m\u001b[0;34m,\u001b[0m \u001b[0mguess\u001b[0m\u001b[0;34m)\u001b[0m\u001b[0;34m:\u001b[0m\u001b[0;34m\u001b[0m\u001b[0;34m\u001b[0m\u001b[0m\n\u001b[0;32m---> 67\u001b[0;31m         \u001b[0mself\u001b[0m\u001b[0;34m.\u001b[0m\u001b[0m_check_valid_word\u001b[0m\u001b[0;34m(\u001b[0m\u001b[0mguess\u001b[0m\u001b[0;34m)\u001b[0m\u001b[0;34m\u001b[0m\u001b[0;34m\u001b[0m\u001b[0m\n\u001b[0m\u001b[1;32m     68\u001b[0m         \u001b[0mself\u001b[0m\u001b[0;34m.\u001b[0m\u001b[0mguesses\u001b[0m\u001b[0;34m.\u001b[0m\u001b[0mappend\u001b[0m\u001b[0;34m(\u001b[0m\u001b[0mguess\u001b[0m\u001b[0;34m)\u001b[0m\u001b[0;34m\u001b[0m\u001b[0;34m\u001b[0m\u001b[0m\n\u001b[1;32m     69\u001b[0m \u001b[0;34m\u001b[0m\u001b[0m\n",
      "\u001b[0;32m~/Desktop/repos/wordle/Wordle.py\u001b[0m in \u001b[0;36m_check_valid_word\u001b[0;34m(word)\u001b[0m\n\u001b[1;32m     25\u001b[0m     \u001b[0;34m@\u001b[0m\u001b[0mstaticmethod\u001b[0m\u001b[0;34m\u001b[0m\u001b[0;34m\u001b[0m\u001b[0m\n\u001b[1;32m     26\u001b[0m     \u001b[0;32mdef\u001b[0m \u001b[0m_check_valid_word\u001b[0m\u001b[0;34m(\u001b[0m\u001b[0mword\u001b[0m\u001b[0;34m)\u001b[0m\u001b[0;34m:\u001b[0m\u001b[0;34m\u001b[0m\u001b[0;34m\u001b[0m\u001b[0m\n\u001b[0;32m---> 27\u001b[0;31m         \u001b[0;32massert\u001b[0m \u001b[0misinstance\u001b[0m\u001b[0;34m(\u001b[0m\u001b[0mword\u001b[0m\u001b[0;34m,\u001b[0m \u001b[0mstr\u001b[0m\u001b[0;34m)\u001b[0m\u001b[0;34m,\u001b[0m \u001b[0;34m\"{} is not a string\"\u001b[0m\u001b[0;34m.\u001b[0m\u001b[0mformat\u001b[0m\u001b[0;34m(\u001b[0m\u001b[0mword\u001b[0m\u001b[0;34m)\u001b[0m\u001b[0;34m\u001b[0m\u001b[0;34m\u001b[0m\u001b[0m\n\u001b[0m\u001b[1;32m     28\u001b[0m         \u001b[0;32massert\u001b[0m \u001b[0;34m(\u001b[0m\u001b[0mlen\u001b[0m\u001b[0;34m(\u001b[0m\u001b[0mword\u001b[0m\u001b[0;34m)\u001b[0m \u001b[0;34m==\u001b[0m \u001b[0mNUM_CHARS\u001b[0m\u001b[0;34m)\u001b[0m\u001b[0;34m,\u001b[0m \u001b[0;34m\"{} has {} characters, not {}\"\u001b[0m\u001b[0;34m.\u001b[0m\u001b[0mformat\u001b[0m\u001b[0;34m(\u001b[0m\u001b[0mword\u001b[0m\u001b[0;34m,\u001b[0m \u001b[0mlen\u001b[0m\u001b[0;34m(\u001b[0m\u001b[0mword\u001b[0m\u001b[0;34m)\u001b[0m\u001b[0;34m,\u001b[0m \u001b[0mNUM_CHARS\u001b[0m\u001b[0;34m)\u001b[0m\u001b[0;34m\u001b[0m\u001b[0;34m\u001b[0m\u001b[0m\n\u001b[1;32m     29\u001b[0m         \u001b[0;32massert\u001b[0m \u001b[0mword\u001b[0m \u001b[0;32min\u001b[0m \u001b[0mdict_words\u001b[0m\u001b[0;34m,\u001b[0m \u001b[0;34m\"{} is not in dictionary\"\u001b[0m\u001b[0;34m.\u001b[0m\u001b[0mformat\u001b[0m\u001b[0;34m(\u001b[0m\u001b[0mword\u001b[0m\u001b[0;34m)\u001b[0m\u001b[0;34m\u001b[0m\u001b[0;34m\u001b[0m\u001b[0m\n",
      "\u001b[0;31mAssertionError\u001b[0m: 0 is not a string"
     ]
    }
   ],
   "source": [
    "w1.make_guess(0)"
   ]
  },
  {
   "cell_type": "code",
   "execution_count": null,
   "id": "56105983-94ff-45a2-a835-83bcd500b92e",
   "metadata": {},
   "outputs": [],
   "source": []
  }
 ],
 "metadata": {
  "kernelspec": {
   "display_name": "Python 3 (ipykernel)",
   "language": "python",
   "name": "python3"
  },
  "language_info": {
   "codemirror_mode": {
    "name": "ipython",
    "version": 3
   },
   "file_extension": ".py",
   "mimetype": "text/x-python",
   "name": "python",
   "nbconvert_exporter": "python",
   "pygments_lexer": "ipython3",
   "version": "3.9.7"
  }
 },
 "nbformat": 4,
 "nbformat_minor": 5
}
